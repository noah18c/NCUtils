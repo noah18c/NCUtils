{
 "cells": [
  {
   "cell_type": "code",
   "execution_count": 22,
   "metadata": {},
   "outputs": [
    {
     "name": "stdout",
     "output_type": "stream",
     "text": [
      "nl-NL_C__B08J43D8GD_excerpt1__KDPP_NF -> 26. nl-NL_C__B08J43D8GD_excerpt1__KDPP_NF.txt\n",
      "nl-NL_C__B08JGFPDFH_excerpt1__KDPP_NF -> 27. nl-NL_C__B08JGFPDFH_excerpt1__KDPP_NF.txt\n"
     ]
    }
   ],
   "source": [
    "# Input files, output same files with renamed names number from x to y\n",
    "\n",
    "import tkinter as tk\n",
    "from tkinter import filedialog\n",
    "import os\n",
    "\n",
    "\n",
    "def file_numberer(start_num=1):\n",
    "    root = tk.Tk()\n",
    "    root.withdraw()\n",
    "\n",
    "    file_path = filedialog.askopenfilenames(\n",
    "        title=\"Select files\",\n",
    "        filetypes=((\"All files\", \"*.*\"),)  # You can adjust the file types as needed\n",
    "    )\n",
    "\n",
    "    if not file_path:\n",
    "        print('No file selected')\n",
    "        return\n",
    "\n",
    "    for index,file_path in enumerate(file_path):\n",
    "\n",
    "        dir_name, file_name = os.path.split(file_path)\n",
    "        name,ext = os.path.splitext(file_name)\n",
    "\n",
    "        new_name = f'{start_num+index}. {name}{ext}'\n",
    "        new_path = os.path.join(dir_name, new_name)\n",
    "        os.rename(file_path, new_path)\n",
    "        print(f'{name} -> {new_name}')\n",
    "\n",
    "\n",
    "file_numberer(26)"
   ]
  },
  {
   "cell_type": "code",
   "execution_count": 2,
   "metadata": {},
   "outputs": [
    {
     "name": "stdout",
     "output_type": "stream",
     "text": [
      "13. nl-NL_C__B08HTQYJVJ_excerpt4__KDPP_NF -> nl-NL_C__B08HTQYJVJ_excerpt4__KDPP_NF.wav\n",
      "14. nl-NL_C__B08HTQYJVJ_excerpt5__KDPP_NF -> nl-NL_C__B08HTQYJVJ_excerpt5__KDPP_NF.wav\n",
      "15. nl-NL_C__B08HTQYJVJ_excerpt6__KDPP_NF -> nl-NL_C__B08HTQYJVJ_excerpt6__KDPP_NF.wav\n",
      "16. nl-NL_C__B08HTQYJVJ_excerpt7__KDPP_NF -> nl-NL_C__B08HTQYJVJ_excerpt7__KDPP_NF.wav\n",
      "17. nl-NL_C__B08HY1LZ7T_excerpt1__KDPP_NF -> nl-NL_C__B08HY1LZ7T_excerpt1__KDPP_NF.wav\n",
      "18. nl-NL_C__B08HY1LZ7T_excerpt2__KDPP_NF -> nl-NL_C__B08HY1LZ7T_excerpt2__KDPP_NF.wav\n",
      "19. nl-NL_C__B08HY1LZ7T_excerpt3__KDPP_NF -> nl-NL_C__B08HY1LZ7T_excerpt3__KDPP_NF.wav\n",
      "20. nl-NL_C__B08HY1LZ7T_excerpt4__KDPP_NF -> nl-NL_C__B08HY1LZ7T_excerpt4__KDPP_NF.wav\n",
      "21. nl-NL_C__B08HY1LZ7T_excerpt5__KDPP_NF -> nl-NL_C__B08HY1LZ7T_excerpt5__KDPP_NF.wav\n",
      "22. nl-NL_C__B08HY1LZ7T_excerpt6__KDPP_NF -> nl-NL_C__B08HY1LZ7T_excerpt6__KDPP_NF.wav\n",
      "23. nl-NL_C__B08HY2FDPB_excerpt1__KDPP_NF -> nl-NL_C__B08HY2FDPB_excerpt1__KDPP_NF.wav\n",
      "24. nl-NL_C__B08HY2FDPB_excerpt2__KDPP_NF -> nl-NL_C__B08HY2FDPB_excerpt2__KDPP_NF.wav\n"
     ]
    }
   ],
   "source": [
    "import regex as re\n",
    "import tkinter as tk\n",
    "from tkinter import filedialog\n",
    "import os\n",
    "\n",
    "\n",
    "def remove_file_numbering():\n",
    "    root = tk.Tk()\n",
    "    root.withdraw()\n",
    "\n",
    "    file_path = filedialog.askopenfilenames(\n",
    "        title=\"Select files\",\n",
    "        filetypes=((\"All files\", \"*.*\"),)  # You can adjust the file types as needed\n",
    "    )\n",
    "\n",
    "    if not file_path:\n",
    "        print('No file selected')\n",
    "        return\n",
    "\n",
    "    for _,file_path in enumerate(file_path):\n",
    "\n",
    "        dir_name, file_name = os.path.split(file_path)\n",
    "        name,ext = os.path.splitext(file_name)\n",
    "\n",
    "        new_name = re.sub(r'^\\d+\\.\\s', '', name)+ext\n",
    "        new_path = os.path.join(dir_name, new_name)\n",
    "        os.rename(file_path, new_path)\n",
    "        print(f'{name} -> {new_name}')\n",
    "\n",
    "remove_file_numbering()"
   ]
  },
  {
   "cell_type": "code",
   "execution_count": 3,
   "metadata": {},
   "outputs": [
    {
     "name": "stdout",
     "output_type": "stream",
     "text": [
      "nl-NL_C__B08HTQYJVJ_excerpt4__KDPP_NF -> nl-NL_C__B08HTQYJVJ_excerpt4__KDPP_NF_S488M.wav\n",
      "nl-NL_C__B08HTQYJVJ_excerpt5__KDPP_NF -> nl-NL_C__B08HTQYJVJ_excerpt5__KDPP_NF_S488M.wav\n",
      "nl-NL_C__B08HTQYJVJ_excerpt6__KDPP_NF -> nl-NL_C__B08HTQYJVJ_excerpt6__KDPP_NF_S488M.wav\n",
      "nl-NL_C__B08HTQYJVJ_excerpt7__KDPP_NF -> nl-NL_C__B08HTQYJVJ_excerpt7__KDPP_NF_S488M.wav\n",
      "nl-NL_C__B08HY1LZ7T_excerpt1__KDPP_NF -> nl-NL_C__B08HY1LZ7T_excerpt1__KDPP_NF_S488M.wav\n",
      "nl-NL_C__B08HY1LZ7T_excerpt2__KDPP_NF -> nl-NL_C__B08HY1LZ7T_excerpt2__KDPP_NF_S488M.wav\n",
      "nl-NL_C__B08HY1LZ7T_excerpt3__KDPP_NF -> nl-NL_C__B08HY1LZ7T_excerpt3__KDPP_NF_S488M.wav\n",
      "nl-NL_C__B08HY1LZ7T_excerpt4__KDPP_NF -> nl-NL_C__B08HY1LZ7T_excerpt4__KDPP_NF_S488M.wav\n",
      "nl-NL_C__B08HY1LZ7T_excerpt5__KDPP_NF -> nl-NL_C__B08HY1LZ7T_excerpt5__KDPP_NF_S488M.wav\n",
      "nl-NL_C__B08HY1LZ7T_excerpt6__KDPP_NF -> nl-NL_C__B08HY1LZ7T_excerpt6__KDPP_NF_S488M.wav\n",
      "nl-NL_C__B08HY2FDPB_excerpt1__KDPP_NF -> nl-NL_C__B08HY2FDPB_excerpt1__KDPP_NF_S488M.wav\n",
      "nl-NL_C__B08HY2FDPB_excerpt2__KDPP_NF -> nl-NL_C__B08HY2FDPB_excerpt2__KDPP_NF_S488M.wav\n"
     ]
    }
   ],
   "source": [
    "def add_suffix(suffix=''):\n",
    "    root = tk.Tk()\n",
    "    root.withdraw()\n",
    "\n",
    "    file_path = filedialog.askopenfilenames(\n",
    "        title=\"Select files\",\n",
    "        filetypes=((\"All files\", \"*.*\"),)  # You can adjust the file types as needed\n",
    "    )\n",
    "\n",
    "    if not file_path:\n",
    "        print('No file selected')\n",
    "        return\n",
    "\n",
    "    for _,file_path in enumerate(file_path):\n",
    "\n",
    "        dir_name, file_name = os.path.split(file_path)\n",
    "        name,ext = os.path.splitext(file_name)\n",
    "\n",
    "        new_name = f'{name}_{suffix}{ext}'\n",
    "        new_path = os.path.join(dir_name, new_name)\n",
    "        os.rename(file_path, new_path)\n",
    "        print(f'{name} -> {new_name}')\n",
    "\n",
    "add_suffix(suffix='S488M')\n"
   ]
  }
 ],
 "metadata": {
  "kernelspec": {
   "display_name": "base",
   "language": "python",
   "name": "python3"
  },
  "language_info": {
   "codemirror_mode": {
    "name": "ipython",
    "version": 3
   },
   "file_extension": ".py",
   "mimetype": "text/x-python",
   "name": "python",
   "nbconvert_exporter": "python",
   "pygments_lexer": "ipython3",
   "version": "3.11.7"
  }
 },
 "nbformat": 4,
 "nbformat_minor": 2
}
